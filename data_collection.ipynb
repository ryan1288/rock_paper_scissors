{
 "cells": [
  {
   "cell_type": "markdown",
   "metadata": {},
   "source": [
    "# Rock Paper Scissors with Jetbot - Data Collection"
   ]
  },
  {
   "cell_type": "markdown",
   "metadata": {},
   "source": [
    "## 1. Initialization\n",
    "* widgets are used to create an interactable or displayable interface in the notebook.\n",
    "* os is use to interact with I?O of the file directories.\n",
    "* traitlets is to link and transform the data type\n",
    "* display is to stream the live video feed\n",
    "* Camera is to interact with the camera onboard the jetbot\n",
    "* uuid to create unique identifiers when saving images"
   ]
  },
  {
   "cell_type": "code",
   "execution_count": null,
   "metadata": {},
   "outputs": [],
   "source": [
    "import ipywidgets.widgets as widgets\n",
    "import os\n",
    "from traitlets import dlink\n",
    "from IPython.display import display\n",
    "from jetbot import Camera, bgr8_to_jpeg\n",
    "from uuid import uuid1"
   ]
  },
  {
   "cell_type": "markdown",
   "metadata": {},
   "source": [
    "## 2. Display live camera feed\n",
    "Initialized to collect ``224x224`` ``RGB`` images."
   ]
  },
  {
   "cell_type": "code",
   "execution_count": null,
   "metadata": {
    "scrolled": true
   },
   "outputs": [],
   "source": [
    "camera = Camera.instance(width=224, height=224)\n",
    "\n",
    "image = widgets.Image(format='jpeg', width=224, height=224)\n",
    "\n",
    "camera_link = dlink((camera, 'value'), (image, 'value'), transform=bgr8_to_jpeg)\n",
    "\n",
    "display(image)"
   ]
  },
  {
   "cell_type": "markdown",
   "metadata": {},
   "source": [
    "## 3. Initialize Database Directories\n",
    "Create a folder ``dataset`` that will contain three sub-folders ``rock``, ``paper``, and ``scissors``."
   ]
  },
  {
   "cell_type": "code",
   "execution_count": null,
   "metadata": {},
   "outputs": [],
   "source": [
    "rock_dir = 'dataset/rock'\n",
    "paper_dir = 'dataset/paper'\n",
    "scissor_dir = 'dataset/scissor'\n",
    "\n",
    "# we have this \"try/except\" statement because these next functions can throw an error if the directories exist already\n",
    "try:\n",
    "    os.makedirs(rock_dir)\n",
    "    os.makedirs(paper_dir)\n",
    "    os.makedirs(scissor_dir)\n",
    "except FileExistsError:\n",
    "    print('Directories not created becasue they already exist')"
   ]
  },
  {
   "cell_type": "markdown",
   "metadata": {},
   "source": [
    "## 4. Create Interactive Inferface\n",
    "Count the number of images in each dataset and create buttons to easily add to the dataset."
   ]
  },
  {
   "cell_type": "code",
   "execution_count": null,
   "metadata": {},
   "outputs": [],
   "source": [
    "button_layout = widgets.Layout(width='128px', height='64px')\n",
    "rock_button = widgets.Button(description='Add Rock', button_style='success', layout=button_layout)\n",
    "paper_button = widgets.Button(description='Add Paper', button_style='success', layout=button_layout)\n",
    "scissor_button = widgets.Button(description='Add Scissor', button_style='success', layout=button_layout)\n",
    "free_count = widgets.IntText(layout=button_layout, value=len(os.listdir(rock_dir)))\n",
    "paper_count = widgets.IntText(layout=button_layout, value=len(os.listdir(paper_dir)))\n",
    "scissor_count = widgets.IntText(layout=button_layout, value=len(os.listdir(scissor_dir)))\n",
    "\n",
    "display(widgets.HBox([rock_count, rock_button]))\n",
    "display(widgets.HBox([paper_count, paper_button]))\n",
    "display(widgets.HBox([scissor_count, scissor_button]))"
   ]
  },
  {
   "cell_type": "markdown",
   "metadata": {},
   "source": [
    "Create callbacks functions to save the images to the desired directory.\n",
    "\n",
    "Use ``uuid1`` method to generate unique identifiers."
   ]
  },
  {
   "cell_type": "code",
   "execution_count": null,
   "metadata": {},
   "outputs": [],
   "source": [
    "def save_snapshot(directory):\n",
    "    image_path = os.path.join(directory, str(uuid1()) + '.jpg')\n",
    "    with open(image_path, 'wb') as f:\n",
    "        f.write(image.value)\n",
    "\n",
    "def save_rock():\n",
    "    global rock_dir, rock_count\n",
    "    save_snapshot(free_dir)\n",
    "    rock_count.value = len(os.listdir(rock_dir))\n",
    "    \n",
    "def save_paper():\n",
    "    global paper_dir, paper_count\n",
    "    save_snapshot(paper_dir)\n",
    "    paper_count.value = len(os.listdir(paper_dir))\n",
    "    \n",
    "def save_scissor():\n",
    "    global scissor_dir, scissor_count\n",
    "    save_snapshot(scissor_dir)\n",
    "    scissor_count.value = len(os.listdir(scissor_dir))"
   ]
  },
  {
   "cell_type": "markdown",
   "metadata": {},
   "source": [
    "Add ``on_click`` events to each button to save the ``Image`` widget output in the JPEG format.\n",
    "\n",
    "Use a 'lambda' function to ignore the return parameter of ``on_click`` as it is unneeded."
   ]
  },
  {
   "cell_type": "code",
   "execution_count": null,
   "metadata": {},
   "outputs": [],
   "source": [
    "rock_button.on_click(lambda x: save_rock())\n",
    "paper_button.on_click(lambda x: save_paper())\n",
    "scissor_button.on_click(lambda x: save_scissor())"
   ]
  },
  {
   "cell_type": "markdown",
   "metadata": {},
   "source": [
    "## 5. Collect Data\n",
    "1. Different orientations\n",
    "2. Different lighting\n",
    "3. Varied object / collision types; walls, ledges, objects\n",
    "4. Different textured floors / objects;  patterned, smooth, glass, etc."
   ]
  },
  {
   "cell_type": "code",
   "execution_count": null,
   "metadata": {},
   "outputs": [],
   "source": [
    "display(image)\n",
    "display(widgets.HBox([rock_count, rock_button]))\n",
    "display(widgets.HBox([paper_count, paper_button]))\n",
    "display(widgets.HBox([scissor_count, scissor_button]))"
   ]
  },
  {
   "cell_type": "markdown",
   "metadata": {},
   "source": [
    "## 6. Zip Data (Optional: only if using Cloud GPU outside of Jetson Nano)\n",
    "> The ! prefix indicates that we want to run the cell as a *shell* (or *terminal*) command.\n",
    "> The -r flag in the zip command below indicates *recursive* so that we include all nested files, the -q flag indicates *quiet* so that the zip command doesn't print any output"
   ]
  },
  {
   "cell_type": "code",
   "execution_count": null,
   "metadata": {},
   "outputs": [],
   "source": [
    "!zip -r -q dataset.zip dataset"
   ]
  }
 ],
 "metadata": {
  "kernelspec": {
   "display_name": "Python 3",
   "language": "python",
   "name": "python3"
  },
  "language_info": {
   "codemirror_mode": {
    "name": "ipython",
    "version": 3
   },
   "file_extension": ".py",
   "mimetype": "text/x-python",
   "name": "python",
   "nbconvert_exporter": "python",
   "pygments_lexer": "ipython3",
   "version": "3.6.8"
  }
 },
 "nbformat": 4,
 "nbformat_minor": 4
}
